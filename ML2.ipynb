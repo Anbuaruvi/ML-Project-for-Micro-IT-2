{
  "nbformat": 4,
  "nbformat_minor": 0,
  "metadata": {
    "colab": {
      "provenance": [],
      "authorship_tag": "ABX9TyOokzN6buhDlQdvDUkB+blq",
      "include_colab_link": true
    },
    "kernelspec": {
      "name": "python3",
      "display_name": "Python 3"
    },
    "language_info": {
      "name": "python"
    }
  },
  "cells": [
    {
      "cell_type": "markdown",
      "metadata": {
        "id": "view-in-github",
        "colab_type": "text"
      },
      "source": [
        "<a href=\"https://colab.research.google.com/github/Anbuaruvi/ML-Project-for-Micro-IT-2/blob/main/ML2.ipynb\" target=\"_parent\"><img src=\"https://colab.research.google.com/assets/colab-badge.svg\" alt=\"Open In Colab\"/></a>"
      ]
    },
    {
      "cell_type": "code",
      "execution_count": 1,
      "metadata": {
        "colab": {
          "base_uri": "https://localhost:8080/"
        },
        "id": "JHQ87OaojpI_",
        "outputId": "c8fbb317-62c9-424c-80e9-581c731f3d82"
      },
      "outputs": [
        {
          "output_type": "stream",
          "name": "stdout",
          "text": [
            "              precision    recall  f1-score   support\n",
            "\n",
            "           0       0.84      0.76      0.80       316\n",
            "           1       0.48      0.28      0.35       151\n",
            "           2       0.76      0.92      0.83       418\n",
            "\n",
            "    accuracy                           0.76       885\n",
            "   macro avg       0.69      0.65      0.66       885\n",
            "weighted avg       0.74      0.76      0.74       885\n",
            "\n"
          ]
        }
      ],
      "source": [
        "import pandas as pd\n",
        "from sklearn.model_selection import train_test_split\n",
        "from sklearn.preprocessing import LabelEncoder\n",
        "from sklearn.impute import SimpleImputer\n",
        "from sklearn.ensemble import RandomForestClassifier\n",
        "from sklearn.metrics import classification_report\n",
        "\n",
        "# Load dataset using the correct delimiter\n",
        "df = pd.read_csv(\"data.csv\", delimiter=';')\n",
        "\n",
        "# Handle missing values\n",
        "imputer = SimpleImputer(strategy='most_frequent')\n",
        "df_imputed = pd.DataFrame(imputer.fit_transform(df), columns=df.columns)\n",
        "\n",
        "# Encode categorical variables\n",
        "label_encoders = {}\n",
        "for column in df_imputed.select_dtypes(include=['object']).columns:\n",
        "    le = LabelEncoder()\n",
        "    df_imputed[column] = le.fit_transform(df_imputed[column])\n",
        "    label_encoders[column] = le\n",
        "\n",
        "# Separate features and target\n",
        "X = df_imputed.drop('Target', axis=1)\n",
        "y = df_imputed['Target']\n",
        "\n",
        "# Split into train and test sets\n",
        "X_train, X_test, y_train, y_test = train_test_split(X, y, test_size=0.2, random_state=42)\n",
        "\n",
        "# Train a Random Forest model\n",
        "model = RandomForestClassifier(random_state=42)\n",
        "model.fit(X_train, y_train)\n",
        "\n",
        "# Make predictions and evaluate\n",
        "y_pred = model.predict(X_test)\n",
        "print(classification_report(y_test, y_pred))\n"
      ]
    }
  ]
}